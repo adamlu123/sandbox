{
 "cells": [
  {
   "cell_type": "code",
   "execution_count": 5,
   "metadata": {},
   "outputs": [],
   "source": [
    "import pickle as pkl\n",
    "import torch\n",
    "import numpy as np"
   ]
  },
  {
   "cell_type": "code",
   "execution_count": 17,
   "metadata": {},
   "outputs": [
    {
     "ename": "NameError",
     "evalue": "name 'np_utils' is not defined",
     "output_type": "error",
     "traceback": [
      "\u001b[0;31m---------------------------------------------------------------------------\u001b[0m",
      "\u001b[0;31mNameError\u001b[0m                                 Traceback (most recent call last)",
      "\u001b[0;32m<ipython-input-17-5daa7e856416>\u001b[0m in \u001b[0;36m<module>\u001b[0;34m\u001b[0m\n\u001b[1;32m     15\u001b[0m \u001b[0mdecoding_data_spike\u001b[0m \u001b[0;34m=\u001b[0m \u001b[0mspike_data_binned\u001b[0m\u001b[0;34m[\u001b[0m\u001b[0;34m:\u001b[0m\u001b[0;34m,\u001b[0m \u001b[0;34m:\u001b[0m\u001b[0;34m,\u001b[0m \u001b[0mdecoding_start\u001b[0m\u001b[0;34m:\u001b[0m\u001b[0mdecoding_end\u001b[0m\u001b[0;34m]\u001b[0m\u001b[0;34m\u001b[0m\u001b[0m\n\u001b[1;32m     16\u001b[0m \u001b[0mdecoding_data_lfp\u001b[0m \u001b[0;34m=\u001b[0m \u001b[0mlfp_data_sampled\u001b[0m\u001b[0;34m[\u001b[0m\u001b[0;34m:\u001b[0m\u001b[0;34m,\u001b[0m \u001b[0;34m:\u001b[0m\u001b[0;34m,\u001b[0m \u001b[0mdecoding_start\u001b[0m\u001b[0;34m:\u001b[0m\u001b[0mdecoding_end\u001b[0m\u001b[0;34m]\u001b[0m\u001b[0;34m\u001b[0m\u001b[0m\n\u001b[0;32m---> 17\u001b[0;31m \u001b[0mdecoding_target\u001b[0m \u001b[0;34m=\u001b[0m \u001b[0mnp_utils\u001b[0m\u001b[0;34m.\u001b[0m\u001b[0mto_categorical\u001b[0m\u001b[0;34m(\u001b[0m\u001b[0;34m(\u001b[0m\u001b[0mtrial_info\u001b[0m\u001b[0;34m[\u001b[0m\u001b[0mtrial_indices\u001b[0m\u001b[0;34m,\u001b[0m \u001b[0;36m3\u001b[0m\u001b[0;34m]\u001b[0m \u001b[0;34m-\u001b[0m \u001b[0;36m1\u001b[0m\u001b[0;34m)\u001b[0m\u001b[0;34m.\u001b[0m\u001b[0mastype\u001b[0m\u001b[0;34m(\u001b[0m\u001b[0mint\u001b[0m\u001b[0;34m)\u001b[0m\u001b[0;34m)\u001b[0m\u001b[0;34m\u001b[0m\u001b[0m\n\u001b[0m",
      "\u001b[0;31mNameError\u001b[0m: name 'np_utils' is not defined"
     ]
    }
   ],
   "source": [
    "rat_name = 'SuperChris'\n",
    "data_dir = '/extra/yadongl10/data/rat_odor/Processed/'\n",
    "spike_data_binned = np.load(data_dir + rat_name + '/{}_spike_data_binned.npy'.format(rat_name.lower()))\n",
    "lfp_data_sampled = np.load(data_dir + rat_name + '/{}_lfp_data_sampled.npy'.format(rat_name.lower()))\n",
    "lfp_data_sampled = np.swapaxes(lfp_data_sampled, 1, 2)\n",
    "trial_info = np.load(data_dir + rat_name + '/{}_trial_info.npy'.format(rat_name.lower()))\n",
    "# process data\n",
    "trial_indices = filter_trials(trial_info)\n",
    "decoding_start = 210\n",
    "decoding_end = decoding_start + 25\n",
    "# scale data first\n",
    "spike_data_binned = spike_data_binned[trial_indices, :, :]\n",
    "spike_data_binned = (spike_data_binned - np.mean(spike_data_binned)) / np.std(spike_data_binned)\n",
    "lfp_data_sampled = lfp_data_sampled[trial_indices, :, :]\n",
    "decoding_data_spike = spike_data_binned[:, :, decoding_start:decoding_end]\n",
    "decoding_data_lfp = lfp_data_sampled[:, :, decoding_start:decoding_end]\n",
    "decoding_target = np_utils.to_categorical((trial_info[trial_indices, 3] - 1).astype(int))"
   ]
  },
  {
   "cell_type": "code",
   "execution_count": null,
   "metadata": {},
   "outputs": [],
   "source": []
  },
  {
   "cell_type": "code",
   "execution_count": 18,
   "metadata": {},
   "outputs": [
    {
     "data": {
      "text/plain": [
       "array([0, 1, 2, 3, 0, 0, 0, 1, 2, 3, 0, 1, 0, 1, 2, 0, 1, 0, 0, 1, 3, 0, 1,\n",
       "       2, 3, 0, 1, 3, 0, 1, 0, 0, 1, 2, 3, 0, 1, 2, 3, 0, 1, 2, 3, 0, 1, 2,\n",
       "       0, 1, 0, 1, 3, 0, 0, 2, 3, 0, 2, 3, 0, 0, 0, 1, 2, 3, 0, 1, 2, 3, 0,\n",
       "       1, 2, 3, 0, 1, 2, 3, 0, 1, 2, 3, 0, 2, 3, 0, 0, 1, 2, 3, 0, 1, 3, 0,\n",
       "       1, 2, 3, 0, 0, 1, 2, 3, 0, 2, 3, 0, 1, 2, 0, 1, 2, 0, 1, 2, 0, 1, 2,\n",
       "       0, 0, 1, 2, 3, 0, 1, 2, 3, 0, 1, 2, 0, 1, 3, 0, 1, 2, 3, 0, 1, 2, 0,\n",
       "       1, 2, 0, 1, 2, 3, 0, 0, 1, 2, 3, 0, 2, 3, 0, 2, 3, 0, 1, 3, 0, 1, 2,\n",
       "       3, 0, 1, 2, 0, 1, 2])"
      ]
     },
     "execution_count": 18,
     "metadata": {},
     "output_type": "execute_result"
    }
   ],
   "source": [
    "(trial_info[trial_indices, 3] - 1).astype(int)"
   ]
  },
  {
   "cell_type": "code",
   "execution_count": 25,
   "metadata": {},
   "outputs": [],
   "source": [
    "\n",
    "\n",
    "\n",
    "def filter_trials(trial_info):\n",
    "    rat_correct = trial_info[:, 0] == 1\n",
    "    in_sequence = trial_info[:, 1] == 1\n",
    "    not_odor_e = trial_info[:, 3] < 5\n",
    "    select = rat_correct & in_sequence & not_odor_e\n",
    "    return select\n",
    "\n",
    "\n",
    "def prepare_data(rat_name = 'SuperChris'):\n",
    "    # load data\n",
    "    data_dir = '/extra/yadongl10/data/rat_odor/Processed/'\n",
    "    spike_data_binned = np.load(data_dir + rat_name + '/{}_spike_data_binned.npy'.format(rat_name.lower()))\n",
    "    lfp_data_sampled = np.load(data_dir + rat_name + '/{}_lfp_data_sampled.npy'.format(rat_name.lower()))\n",
    "    lfp_data_sampled = np.swapaxes(lfp_data_sampled, 1, 2)\n",
    "    trial_info = np.load(data_dir + rat_name + '/{}_trial_info.npy'.format(rat_name.lower()))\n",
    "    # process data\n",
    "    trial_indices = filter_trials(trial_info)\n",
    "    decoding_start = 210\n",
    "    decoding_end = decoding_start + 25\n",
    "    # scale data first\n",
    "    spike_data_binned = spike_data_binned[trial_indices, :, :]\n",
    "    spike_data_binned = (spike_data_binned - np.mean(spike_data_binned)) / np.std(spike_data_binned)\n",
    "    lfp_data_sampled = lfp_data_sampled[trial_indices, :, :]\n",
    "    decoding_data_spike = spike_data_binned[:, :, decoding_start:decoding_end]\n",
    "    decoding_data_lfp = lfp_data_sampled[:, :, decoding_start:decoding_end]\n",
    "    decoding_target = (trial_info[trial_indices, 3] - 1).astype(int) # np_utils.to_categorical()\n",
    "    # organize tetrode data\n",
    "    if rat_name.lower() == 'superchris':\n",
    "        tetrode_ids = [1, 10, 12, 13, 14, 15, 16, 18, 19, 2, 20, 21, 22, 23, 3, 4, 5, 6, 7, 8, 9]\n",
    "        tetrode_units = {1:3, 10:0, 12:1, 13:8, 14:4, 15:6, 16:1, 18:0, 19:4, 2:3,\n",
    "                         20:0, 21:1, 22:5, 23:7, 3:0, 4:0, 5:0, 6:0, 7:1, 8:1, 9:1}\n",
    "    elif rat_name.lower() == 'stella':\n",
    "        tetrode_ids = [10, 12, 13, 14, 15, 16, 17, 18, 19, 20, 21, 22, 23, 2, 3, 4, 5, 6, 7, 8, 9]\n",
    "        tetrode_units = {10:1, 12:0, 13:5, 14:7, 15:4, 16:8, 17:0, 18:0, 19:1, 20:0,\n",
    "                     21:1, 22:1, 23:0, 2:0, 3:0, 4:0, 5:0, 6:0, 7:13, 8:4, 9:4}\n",
    "    elif rat_name.lower() == 'buchanan':\n",
    "        tetrode_ids = [10, 12, 13, 15, 16, 17, 18, 19, 1, 20, 21, 22, 23, 2, 4, 5, 6, 7, 8, 9]\n",
    "        tetrode_units = {10:0, 12:0, 13:9, 15:6, 16:0, 17:4, 18:12, 19:15, 1:0,\n",
    "                     20:0, 21:1, 22:13, 23:8, 2:2, 4:0, 5:6, 6:3, 7:0, 8:0, 9:0}\n",
    "    elif rat_name.lower() == 'barat':\n",
    "        tetrode_ids = [10, 12, 13, 14, 15, 16, 17, 18, 19, 1, 20, 21, 22, 23, 2, 3, 4, 5, 6, 7, 8, 9]\n",
    "        tetrode_units = {10:1, 12:20, 13:12, 14:7, 15:0, 16:0, 17:11, 18:0, 19:0, 1:1, 20:0, 21:9, 22:0,\n",
    "                         23:1, 2:0, 3:11, 4:0, 5:4, 6:0, 7:1, 8:0, 9:14}\n",
    "    elif rat_name.lower() == 'mitt':\n",
    "        tetrode_ids = [12, 13, 14, 15, 16, 17, 18, 19, 1, 20, 21, 22, 23, 2, 3, 4, 5, 6, 7, 8, 9]\n",
    "        tetrode_units = {12:16, 13:15, 14:4, 15:2, 16:6, 17:2, 18:12, 19:15, 1:0, 20:12, 21:0, 22:1,\n",
    "                         23:4, 2:0, 3:4, 4:0, 5:0, 6:0, 7:3, 8:1, 9:7}\n",
    "    tetrode_data = organize_tetrode(decoding_data_spike, decoding_data_lfp, tetrode_ids, tetrode_units)\n",
    "    return tetrode_data, decoding_target, tetrode_ids, tetrode_units, spike_data_binned, lfp_data_sampled\n",
    "\n",
    "\n",
    "def stack_data(all_data, window_size, stride):\n",
    "    \"\"\"\n",
    "    Divide data into smaller time windows with stride and stack them.\n",
    "    :param all_data: (3d numpy array) spike train or LFP data of format [trial, neuron, time]\n",
    "    :param window_size: (int) width of time window\n",
    "    :param stride: (int) as stride in convolution\n",
    "    :return: (4d numpy array) data of format [trial, window, neuron, time]\n",
    "    \"\"\"\n",
    "    n_trial, n_neuron, n_time = all_data.shape\n",
    "    n_window = (n_time - window_size) / stride\n",
    "    stacked_data = np.zeros((n_trial, n_window, n_neuron, window_size))\n",
    "\n",
    "    for i in range(n_window):\n",
    "        window_start = i * stride\n",
    "        window_end = i * stride + window_size\n",
    "        stacked_data[:, i, :, :] = all_data[:, :, window_start:window_end]\n",
    "\n",
    "    return stacked_data\n",
    "\n",
    "\n",
    "def organize_tetrode(spike_data, lfp_data, tetrode_ids, tetrode_units, verbose=True):\n",
    "    \"\"\"\n",
    "    Organize spike and LFP data by tetrode.\n",
    "    :param spike_data: (3d numpy array) spike train data of format [trial, neuron, time]\n",
    "    :param lfp_data: (3d numpy array ) LFP data of format [trial, tetrode, time]\n",
    "    :param tetrode_ids: (list) of tetrode ids in the order of LFP data\n",
    "    :param tetrode_units: (dict) number of neuron units on each tetrode\n",
    "    :param verbose: (bool) whether to print each tetrode data shape\n",
    "    :return: (list of 4d numpy arrays) each of format [trial, 1, neuron + tetrode, time]\n",
    "    \"\"\"\n",
    "    all_tetrode_data = []\n",
    "    i = 0\n",
    "\n",
    "    for j, t in enumerate(tetrode_ids):\n",
    "        k = tetrode_units[t]\n",
    "        if k == 0:\n",
    "            continue\n",
    "\n",
    "        tetrode_lfp = np.expand_dims(lfp_data[:, j, :], axis=1)\n",
    "        tetrode_spike = spike_data[:, i:(i + k), :]\n",
    "        if len(tetrode_spike.shape) == 2:\n",
    "            tetrode_spike = np.expand_dims(tetrode_spike, axis=1)\n",
    "\n",
    "        tetrode_data = np.concatenate([tetrode_lfp, tetrode_spike], axis=1)\n",
    "        tetrode_data = np.expand_dims(tetrode_data, axis=-1)\n",
    "\n",
    "        all_tetrode_data.append(tetrode_data)\n",
    "\n",
    "        if verbose:\n",
    "            print('Current tetrode {t} with {k} neurons/units'.format(t=t, k=k))\n",
    "            print(tetrode_data.shape)\n",
    "\n",
    "        i += k\n",
    "    return all_tetrode_data\n",
    "\n",
    "\n",
    "def select_data(all_tetrode_data, index):\n",
    "    \"\"\"\n",
    "    Select tetrode data by trial indices.\n",
    "    :param all_tetrode_data: (list of 4d numpy arrays) each of format [trial, 1, neuron + tetrode, time]\n",
    "    :param index: (1d numpy array) trial indices\n",
    "    :return: (list of 4d numpy arrays) selected subset of tetrode data\n",
    "    \"\"\"\n",
    "    current_data = []\n",
    "    for x in all_tetrode_data:\n",
    "        current_data.append(x[index, :, :, :])\n",
    "    return current_data\n",
    "\n",
    "\n",
    "def valid_tetrodes(tetrode_ids, tetrode_units):\n",
    "    \"\"\"\n",
    "    Only keep valid tetrodes with neuron units so that there is corresponding spike train data.\n",
    "    :param tetrode_ids: (list) of tetrode ids in the order of LFP data\n",
    "    :param tetrode_units: (dict) number of neuron units on each tetrode\n",
    "    :return: (list) of tetrode ids with neuron units\n",
    "    \"\"\"\n",
    "    return [x for x in tetrode_ids if tetrode_units[x] > 0]\n",
    "\n",
    "\n",
    "# tetrode_data, decoding_target, tetrode_ids, tetrode_units, spike_data_binned, lfp_data_sampled = prepare_data(subset = 'SuperChris')\n",
    "\n"
   ]
  },
  {
   "cell_type": "code",
   "execution_count": 27,
   "metadata": {},
   "outputs": [
    {
     "name": "stdout",
     "output_type": "stream",
     "text": [
      "Current tetrode 1 with 3 neurons/units\n",
      "(168, 4, 25, 1)\n",
      "Current tetrode 12 with 1 neurons/units\n",
      "(168, 2, 25, 1)\n",
      "Current tetrode 13 with 8 neurons/units\n",
      "(168, 9, 25, 1)\n",
      "Current tetrode 14 with 4 neurons/units\n",
      "(168, 5, 25, 1)\n",
      "Current tetrode 15 with 6 neurons/units\n",
      "(168, 7, 25, 1)\n",
      "Current tetrode 16 with 1 neurons/units\n",
      "(168, 2, 25, 1)\n",
      "Current tetrode 19 with 4 neurons/units\n",
      "(168, 5, 25, 1)\n",
      "Current tetrode 2 with 3 neurons/units\n",
      "(168, 4, 25, 1)\n",
      "Current tetrode 21 with 1 neurons/units\n",
      "(168, 2, 25, 1)\n",
      "Current tetrode 22 with 5 neurons/units\n",
      "(168, 6, 25, 1)\n",
      "Current tetrode 23 with 7 neurons/units\n",
      "(168, 8, 25, 1)\n",
      "Current tetrode 7 with 1 neurons/units\n",
      "(168, 2, 25, 1)\n",
      "Current tetrode 8 with 1 neurons/units\n",
      "(168, 2, 25, 1)\n",
      "Current tetrode 9 with 1 neurons/units\n",
      "(168, 2, 25, 1)\n"
     ]
    }
   ],
   "source": [
    "tetrode_data, decoding_target, tetrode_ids, tetrode_units, spike_data_binned, lfp_data_sampled = prepare_data()"
   ]
  },
  {
   "cell_type": "code",
   "execution_count": 106,
   "metadata": {},
   "outputs": [
    {
     "data": {
      "text/plain": [
       "array([0, 1, 2, 0, 1, 2, 0, 0, 1, 0, 0, 2, 0, 1, 2, 0, 2, 0, 0, 1, 2, 0, 1,\n",
       "       2, 0, 1, 2, 0, 1, 0, 0, 2, 1, 2, 1, 2, 0, 1, 2, 0, 1, 2, 0, 1, 2, 0,\n",
       "       1, 2, 0, 1, 2, 1, 2, 0, 1, 2, 0, 2, 0, 1, 2, 0, 1, 2, 1, 2, 0, 1, 0,\n",
       "       1, 0, 1, 0, 1, 0, 1, 2, 0, 1, 2, 0, 1, 0, 2, 0, 1, 2, 0, 1, 0, 1, 0,\n",
       "       1, 2, 0, 1, 2, 1, 2, 1, 2, 0, 2, 0, 1, 2, 0, 1, 0, 1])"
      ]
     },
     "execution_count": 106,
     "metadata": {},
     "output_type": "execute_result"
    }
   ],
   "source": [
    "spike_data_binned.shape\n",
    "decoding_target[decoding_target!=0] - 1"
   ]
  },
  {
   "cell_type": "code",
   "execution_count": 39,
   "metadata": {},
   "outputs": [],
   "source": [
    "tetrode_units = {1:3, 10:0, 12:1, 13:8, 14:4, 15:6, 16:1, 18:0, 19:4, 2:3,\n",
    "                         20:0, 21:1, 22:5, 23:7, 3:0, 4:0, 5:0, 6:0, 7:1, 8:1, 9:1}"
   ]
  },
  {
   "cell_type": "code",
   "execution_count": 54,
   "metadata": {},
   "outputs": [],
   "source": [
    "num_neurons = np.asarray([tetrode_units[key] for key in tetrode_units.keys()])\n"
   ]
  },
  {
   "cell_type": "code",
   "execution_count": 66,
   "metadata": {},
   "outputs": [
    {
     "data": {
      "text/plain": [
       "array([3, 1, 8, 4, 6, 1, 4, 3, 1, 5, 7, 1, 1, 1])"
      ]
     },
     "execution_count": 66,
     "metadata": {},
     "output_type": "execute_result"
    }
   ],
   "source": [
    "neuron_id = num_neurons[num_neurons!=0]\n",
    "neuron_id"
   ]
  },
  {
   "cell_type": "code",
   "execution_count": 52,
   "metadata": {},
   "outputs": [
    {
     "data": {
      "text/plain": [
       "(14, 21)"
      ]
     },
     "execution_count": 52,
     "metadata": {},
     "output_type": "execute_result"
    }
   ],
   "source": [
    "for i in neuron_id:\n",
    "    nn.Parameter()"
   ]
  },
  {
   "cell_type": "code",
   "execution_count": 84,
   "metadata": {},
   "outputs": [
    {
     "name": "stdout",
     "output_type": "stream",
     "text": [
      "[ 35.5   9.6   0.   42.2  40.   43.6  10.    5.3  18.    5.5   2.5   0.5\n",
      "  30.3  68.1   1.6   1.3  52.9  49.3   1.2   1.    0.    0.    0.   89.1\n",
      "  16.2  52.2  16.6  30.1   0.4   0.5   0.1  54.8  58.7  22.2  11.9   0.8\n",
      "   2.2   0.8   0.5  75.2   0.1  14.6   0.5   6.6  37.9   1.5]\n"
     ]
    }
   ],
   "source": [
    "\n",
    "def filter_trials(trial_info):\n",
    "    \"\"\"\n",
    "    Get indices of correct in-sequence trials of odors A to D.\n",
    "    \"\"\"\n",
    "    rat_correct = trial_info[:, 0] == 1\n",
    "    in_sequence = trial_info[:, 1] == 1\n",
    "    not_odor_e = trial_info[:, 3] < 5\n",
    "    select = rat_correct & not_odor_e\n",
    "    return select\n",
    "\n",
    "\n",
    "def clean_data(trial_info, spike_data, lfp_data, training=False):\n",
    "    \"\"\"\n",
    "    Clean up trials, remove cells that do not fire, and label targets.\n",
    "    \"\"\"\n",
    "    trial_indices = filter_trials(trial_info)\n",
    "    spike_data = spike_data[trial_indices]\n",
    "    lfp_data = lfp_data[trial_indices]\n",
    "    total_spike = np.sum(np.sum(spike_data[:, :, 210:235], axis=2), axis=0)\n",
    "    print(total_spike)\n",
    "    spike_data = spike_data[:, total_spike > 0, :]\n",
    "    target = trial_info[trial_indices, 1]  # whether inseq\n",
    "    odor = trial_info[trial_indices, 3] - 1\n",
    "\n",
    "    if training:\n",
    "        spike_data = np.mean(spike_data[:, :, 210:235], axis=2)  # 210:235\n",
    "    return target, spike_data, lfp_data, odor\n",
    "\n",
    "\n",
    "def prepare_odor_data(subset = 'SuperChris'):\n",
    "    data_dir = '/extra/yadongl10/data/rat_odor/Processed/'\n",
    "    st = np.load(data_dir + subset + '/{}_spike_data_binned.npy'.format(subset.lower()))\n",
    "    info = np.load(data_dir + subset +'/{}_trial_info.npy'.format(subset.lower()))\n",
    "    lfp_data = np.load(data_dir + subset +'/{}_lfp_data_sampled.npy'.format(subset.lower()))\n",
    "    target, spike_data, lfp_data, odor = clean_data(info, st, lfp_data, training=True)\n",
    "    return target, spike_data, lfp_data, odor\n",
    "\n",
    "target, spike_data, lfp_data, odor = prepare_odor_data(subset = 'SuperChris')"
   ]
  },
  {
   "cell_type": "code",
   "execution_count": 75,
   "metadata": {},
   "outputs": [
    {
     "data": {
      "text/plain": [
       "(189, 42)"
      ]
     },
     "execution_count": 75,
     "metadata": {},
     "output_type": "execute_result"
    }
   ],
   "source": [
    "spike_data.shape"
   ]
  },
  {
   "cell_type": "code",
   "execution_count": 76,
   "metadata": {},
   "outputs": [
    {
     "ename": "IndexError",
     "evalue": "too many indices for array",
     "output_type": "error",
     "traceback": [
      "\u001b[0;31m---------------------------------------------------------------------------\u001b[0m",
      "\u001b[0;31mIndexError\u001b[0m                                Traceback (most recent call last)",
      "\u001b[0;32m<ipython-input-76-10768c1435cc>\u001b[0m in \u001b[0;36m<module>\u001b[0;34m\u001b[0m\n\u001b[0;32m----> 1\u001b[0;31m \u001b[0mtotal_spike\u001b[0m \u001b[0;34m=\u001b[0m \u001b[0mnp\u001b[0m\u001b[0;34m.\u001b[0m\u001b[0msum\u001b[0m\u001b[0;34m(\u001b[0m\u001b[0mnp\u001b[0m\u001b[0;34m.\u001b[0m\u001b[0msum\u001b[0m\u001b[0;34m(\u001b[0m\u001b[0mspike_data\u001b[0m\u001b[0;34m[\u001b[0m\u001b[0;34m:\u001b[0m\u001b[0;34m,\u001b[0m \u001b[0;34m:\u001b[0m\u001b[0;34m,\u001b[0m \u001b[0;36m210\u001b[0m\u001b[0;34m:\u001b[0m\u001b[0;36m235\u001b[0m\u001b[0;34m]\u001b[0m\u001b[0;34m,\u001b[0m \u001b[0maxis\u001b[0m\u001b[0;34m=\u001b[0m\u001b[0;36m2\u001b[0m\u001b[0;34m)\u001b[0m\u001b[0;34m,\u001b[0m \u001b[0maxis\u001b[0m\u001b[0;34m=\u001b[0m\u001b[0;36m0\u001b[0m\u001b[0;34m)\u001b[0m\u001b[0;34m\u001b[0m\u001b[0m\n\u001b[0m",
      "\u001b[0;31mIndexError\u001b[0m: too many indices for array"
     ]
    }
   ],
   "source": [
    "total_spike = np.sum(np.sum(spike_data[:, :, 210:235], axis=2), axis=0)"
   ]
  },
  {
   "cell_type": "code",
   "execution_count": 79,
   "metadata": {},
   "outputs": [
    {
     "data": {
      "text/plain": [
       "46"
      ]
     },
     "execution_count": 79,
     "metadata": {},
     "output_type": "execute_result"
    }
   ],
   "source": [
    "sum([3, 1, 8, 4, 6, 1, 4, 3, 1, 5, 7, 1, 1, 1])"
   ]
  },
  {
   "cell_type": "code",
   "execution_count": 97,
   "metadata": {},
   "outputs": [
    {
     "data": {
      "text/plain": [
       "tensor([[1, 2, 1, 2],\n",
       "        [3, 4, 3, 4]])"
      ]
     },
     "execution_count": 97,
     "metadata": {},
     "output_type": "execute_result"
    }
   ],
   "source": [
    "torch.tensor([[1,2],[3,4]]).repeat(1, 2)"
   ]
  },
  {
   "cell_type": "code",
   "execution_count": 86,
   "metadata": {},
   "outputs": [
    {
     "data": {
      "text/plain": [
       "tensor([[1., 0., 0., 0.],\n",
       "        [0., 1., 0., 0.],\n",
       "        [0., 0., 1., 0.],\n",
       "        [0., 0., 0., 1.],\n",
       "        [1., 0., 0., 0.],\n",
       "        [1., 0., 0., 0.],\n",
       "        [1., 0., 0., 0.],\n",
       "        [0., 1., 0., 0.],\n",
       "        [0., 0., 1., 0.],\n",
       "        [0., 0., 0., 1.],\n",
       "        [1., 0., 0., 0.],\n",
       "        [0., 1., 0., 0.],\n",
       "        [1., 0., 0., 0.],\n",
       "        [0., 1., 0., 0.],\n",
       "        [0., 0., 1., 0.],\n",
       "        [0., 0., 1., 0.],\n",
       "        [1., 0., 0., 0.],\n",
       "        [0., 1., 0., 0.],\n",
       "        [1., 0., 0., 0.],\n",
       "        [1., 0., 0., 0.],\n",
       "        [0., 1., 0., 0.],\n",
       "        [0., 0., 0., 1.],\n",
       "        [1., 0., 0., 0.],\n",
       "        [0., 1., 0., 0.],\n",
       "        [0., 0., 1., 0.],\n",
       "        [0., 0., 0., 1.],\n",
       "        [1., 0., 0., 0.],\n",
       "        [0., 1., 0., 0.],\n",
       "        [1., 0., 0., 0.],\n",
       "        [0., 0., 0., 1.],\n",
       "        [1., 0., 0., 0.],\n",
       "        [0., 1., 0., 0.],\n",
       "        [1., 0., 0., 0.],\n",
       "        [1., 0., 0., 0.],\n",
       "        [0., 1., 0., 0.],\n",
       "        [0., 0., 1., 0.],\n",
       "        [0., 0., 0., 1.],\n",
       "        [1., 0., 0., 0.],\n",
       "        [0., 1., 0., 0.],\n",
       "        [0., 0., 1., 0.],\n",
       "        [0., 0., 0., 1.],\n",
       "        [0., 0., 0., 1.],\n",
       "        [1., 0., 0., 0.],\n",
       "        [0., 1., 0., 0.],\n",
       "        [0., 0., 1., 0.],\n",
       "        [0., 0., 0., 1.],\n",
       "        [1., 0., 0., 0.],\n",
       "        [0., 1., 0., 0.],\n",
       "        [0., 0., 1., 0.],\n",
       "        [1., 0., 0., 0.],\n",
       "        [1., 0., 0., 0.],\n",
       "        [0., 1., 0., 0.],\n",
       "        [0., 0., 0., 1.],\n",
       "        [1., 0., 0., 0.],\n",
       "        [0., 1., 0., 0.],\n",
       "        [0., 0., 0., 1.],\n",
       "        [0., 0., 0., 1.],\n",
       "        [1., 0., 0., 0.],\n",
       "        [0., 0., 0., 1.],\n",
       "        [1., 0., 0., 0.],\n",
       "        [0., 0., 0., 1.],\n",
       "        [0., 0., 1., 0.],\n",
       "        [0., 0., 0., 1.],\n",
       "        [1., 0., 0., 0.],\n",
       "        [0., 0., 0., 1.],\n",
       "        [0., 0., 1., 0.],\n",
       "        [0., 0., 0., 1.],\n",
       "        [1., 0., 0., 0.],\n",
       "        [1., 0., 0., 0.],\n",
       "        [1., 0., 0., 0.],\n",
       "        [0., 1., 0., 0.],\n",
       "        [0., 0., 1., 0.],\n",
       "        [0., 0., 0., 1.],\n",
       "        [1., 0., 0., 0.],\n",
       "        [0., 1., 0., 0.],\n",
       "        [0., 0., 1., 0.],\n",
       "        [0., 0., 0., 1.],\n",
       "        [1., 0., 0., 0.],\n",
       "        [0., 1., 0., 0.],\n",
       "        [0., 0., 1., 0.],\n",
       "        [0., 0., 0., 1.],\n",
       "        [1., 0., 0., 0.],\n",
       "        [1., 0., 0., 0.],\n",
       "        [0., 1., 0., 0.],\n",
       "        [0., 0., 1., 0.],\n",
       "        [0., 0., 0., 1.],\n",
       "        [1., 0., 0., 0.],\n",
       "        [0., 1., 0., 0.],\n",
       "        [0., 0., 1., 0.],\n",
       "        [0., 0., 0., 1.],\n",
       "        [0., 1., 0., 0.],\n",
       "        [1., 0., 0., 0.],\n",
       "        [0., 0., 1., 0.],\n",
       "        [0., 0., 0., 1.],\n",
       "        [1., 0., 0., 0.],\n",
       "        [1., 0., 0., 0.],\n",
       "        [0., 1., 0., 0.],\n",
       "        [0., 0., 1., 0.],\n",
       "        [0., 0., 0., 1.],\n",
       "        [1., 0., 0., 0.],\n",
       "        [0., 1., 0., 0.],\n",
       "        [0., 1., 0., 0.],\n",
       "        [0., 0., 0., 1.],\n",
       "        [1., 0., 0., 0.],\n",
       "        [0., 1., 0., 0.],\n",
       "        [0., 0., 1., 0.],\n",
       "        [0., 0., 0., 1.],\n",
       "        [0., 0., 1., 0.],\n",
       "        [1., 0., 0., 0.],\n",
       "        [1., 0., 0., 0.],\n",
       "        [0., 1., 0., 0.],\n",
       "        [0., 0., 1., 0.],\n",
       "        [0., 0., 0., 1.],\n",
       "        [1., 0., 0., 0.],\n",
       "        [0., 0., 1., 0.],\n",
       "        [0., 0., 1., 0.],\n",
       "        [0., 0., 0., 1.],\n",
       "        [1., 0., 0., 0.],\n",
       "        [0., 1., 0., 0.],\n",
       "        [0., 0., 1., 0.],\n",
       "        [1., 0., 0., 0.],\n",
       "        [0., 1., 0., 0.],\n",
       "        [0., 0., 1., 0.],\n",
       "        [1., 0., 0., 0.],\n",
       "        [0., 1., 0., 0.],\n",
       "        [0., 0., 1., 0.],\n",
       "        [1., 0., 0., 0.],\n",
       "        [0., 1., 0., 0.],\n",
       "        [0., 0., 1., 0.],\n",
       "        [1., 0., 0., 0.],\n",
       "        [1., 0., 0., 0.],\n",
       "        [0., 1., 0., 0.],\n",
       "        [0., 0., 1., 0.],\n",
       "        [0., 0., 0., 1.],\n",
       "        [1., 0., 0., 0.],\n",
       "        [0., 1., 0., 0.],\n",
       "        [0., 0., 1., 0.],\n",
       "        [0., 0., 0., 1.],\n",
       "        [1., 0., 0., 0.],\n",
       "        [0., 1., 0., 0.],\n",
       "        [0., 0., 1., 0.],\n",
       "        [1., 0., 0., 0.],\n",
       "        [0., 1., 0., 0.],\n",
       "        [1., 0., 0., 0.],\n",
       "        [0., 0., 0., 1.],\n",
       "        [1., 0., 0., 0.],\n",
       "        [0., 1., 0., 0.],\n",
       "        [0., 0., 1., 0.],\n",
       "        [0., 0., 0., 1.],\n",
       "        [1., 0., 0., 0.],\n",
       "        [0., 1., 0., 0.],\n",
       "        [0., 0., 1., 0.],\n",
       "        [1., 0., 0., 0.],\n",
       "        [1., 0., 0., 0.],\n",
       "        [0., 1., 0., 0.],\n",
       "        [0., 0., 1., 0.],\n",
       "        [1., 0., 0., 0.],\n",
       "        [0., 1., 0., 0.],\n",
       "        [0., 0., 1., 0.],\n",
       "        [0., 0., 0., 1.],\n",
       "        [0., 1., 0., 0.],\n",
       "        [1., 0., 0., 0.],\n",
       "        [1., 0., 0., 0.],\n",
       "        [0., 1., 0., 0.],\n",
       "        [0., 0., 1., 0.],\n",
       "        [0., 0., 0., 1.],\n",
       "        [1., 0., 0., 0.],\n",
       "        [0., 0., 0., 1.],\n",
       "        [0., 0., 1., 0.],\n",
       "        [0., 0., 0., 1.],\n",
       "        [1., 0., 0., 0.],\n",
       "        [0., 0., 0., 1.],\n",
       "        [0., 0., 1., 0.],\n",
       "        [0., 0., 0., 1.],\n",
       "        [1., 0., 0., 0.],\n",
       "        [0., 1., 0., 0.],\n",
       "        [0., 0., 0., 1.],\n",
       "        [1., 0., 0., 0.],\n",
       "        [0., 1., 0., 0.],\n",
       "        [0., 0., 1., 0.],\n",
       "        [0., 0., 0., 1.],\n",
       "        [1., 0., 0., 0.],\n",
       "        [0., 1., 0., 0.],\n",
       "        [0., 0., 1., 0.],\n",
       "        [0., 0., 1., 0.],\n",
       "        [1., 0., 0., 0.],\n",
       "        [0., 1., 0., 0.],\n",
       "        [0., 0., 1., 0.],\n",
       "        [0., 0., 1., 0.]])"
      ]
     },
     "execution_count": 86,
     "metadata": {},
     "output_type": "execute_result"
    }
   ],
   "source": [
    "torch.tensor((np.arange(4) == odor[:, None]).astype(np.float32), dtype=torch.float)"
   ]
  },
  {
   "cell_type": "code",
   "execution_count": 107,
   "metadata": {},
   "outputs": [
    {
     "data": {
      "text/plain": [
       "tensor([0, 2, 1])"
      ]
     },
     "execution_count": 107,
     "metadata": {},
     "output_type": "execute_result"
    }
   ],
   "source": [
    "torch.randperm(3)"
   ]
  },
  {
   "cell_type": "code",
   "execution_count": 111,
   "metadata": {},
   "outputs": [],
   "source": [
    "from scipy.spatial import Voronoi, voronoi_plot_2d\n",
    "import matplotlib.pyplot as plt\n",
    "%matplotlib inline\n"
   ]
  },
  {
   "cell_type": "code",
   "execution_count": null,
   "metadata": {},
   "outputs": [],
   "source": [
    "tetrode_ids = [1, 10, 12, 13, 14, 15, 16, 18, 19, 2, 20, 21, 22, 23, 3, 4, 5, 6, 7, 8, 9]\n",
    "tetrode_units = {1:3, 10:0, 12:1, 13:8, 14:4, 15:6, 16:1, 18:0, 19:4, 2:3,\n",
    "                 20:0, 21:1, 22:5, 23:7, 3:0, 4:0, 5:0, 6:0, 7:1, 8:1, 9:1}"
   ]
  },
  {
   "cell_type": "code",
   "execution_count": 200,
   "metadata": {},
   "outputs": [
    {
     "data": {
      "image/png": "[encoded data removed]",
      "text/plain": [
       "<matplotlib.figure.Figure at 0x7f0900c53b70>"
      ]
     },
     "metadata": {
      "needs_background": "light"
     },
     "output_type": "display_data"
    }
   ],
   "source": [
    "# points_buchanan = np.array([[760, 418], [368, 524], [390, 450], [330, 490], [420, 400], [340, 430], [460, 370], [780, 465], \n",
    "#                    [510, 490], [470, 530], [463, 447], [640, 520], [690, 470], [703, 407]])\n",
    "points_superchris = np.asarray([[540, 550], [730, 580], [766,523], [600, 795], [771, 555],[820, 560], [870, 632],\n",
    "                                [585, 545], [774, 693], [801, 652], [733, 663], [657, 665], [620, 700], [586, 658]])\n",
    "\n",
    "vor = Voronoi(points_superchris)\n",
    "voronoi_plot_2d(vor)\n",
    "plt.show()"
   ]
  },
  {
   "cell_type": "code",
   "execution_count": 142,
   "metadata": {},
   "outputs": [
    {
     "data": {
      "image/png": "[encoded data removed]",
      "text/plain": [
       "<matplotlib.figure.Figure at 0x7f0900ca2940>"
      ]
     },
     "metadata": {
      "needs_background": "light"
     },
     "output_type": "display_data"
    }
   ],
   "source": [
    "regions = voronoi_plot_2d(vor,show_vertices = False, line_width=1.2)\n",
    "plt.show()"
   ]
  },
  {
   "cell_type": "code",
   "execution_count": null,
   "metadata": {},
   "outputs": [],
   "source": [
    "def voronoi_finite_polygons_2d(vor, radius=None):\n",
    "    \"\"\"\n",
    "    Reconstruct infinite voronoi regions in a 2D diagram to finite\n",
    "    regions.\n",
    "\n",
    "    Parameters\n",
    "    ----------\n",
    "    vor : Voronoi\n",
    "        Input diagram\n",
    "    radius : float, optional\n",
    "        Distance to 'points at infinity'.\n",
    "\n",
    "    Returns\n",
    "    -------\n",
    "    regions : list of tuples\n",
    "        Indices of vertices in each revised Voronoi regions.\n",
    "    vertices : list of tuples\n",
    "        Coordinates for revised Voronoi vertices. Same as coordinates\n",
    "        of input vertices, with 'points at infinity' appended to the\n",
    "        end.\n",
    "\n",
    "    \"\"\"\n",
    "\n",
    "    if vor.points.shape[1] != 2:\n",
    "        raise ValueError(\"Requires 2D input\")\n",
    "\n",
    "    new_regions = []\n",
    "    new_vertices = vor.vertices.tolist()\n",
    "\n",
    "    center = vor.points.mean(axis=0)\n",
    "    if radius is None:\n",
    "        radius = vor.points.ptp().max()\n",
    "\n",
    "    # Construct a map containing all ridges for a given point\n",
    "    all_ridges = {}\n",
    "    for (p1, p2), (v1, v2) in zip(vor.ridge_points, vor.ridge_vertices):\n",
    "        all_ridges.setdefault(p1, []).append((p2, v1, v2))\n",
    "        all_ridges.setdefault(p2, []).append((p1, v1, v2))\n",
    "\n",
    "    # Reconstruct infinite regions\n",
    "    for p1, region in enumerate(vor.point_region):\n",
    "        vertices = vor.regions[region]\n",
    "\n",
    "        if all(v >= 0 for v in vertices):\n",
    "            # finite region\n",
    "            new_regions.append(vertices)\n",
    "            continue\n",
    "\n",
    "        # reconstruct a non-finite region\n",
    "        ridges = all_ridges[p1]\n",
    "        new_region = [v for v in vertices if v >= 0]\n",
    "\n",
    "        for p2, v1, v2 in ridges:\n",
    "            if v2 < 0:\n",
    "                v1, v2 = v2, v1\n",
    "            if v1 >= 0:\n",
    "                # finite ridge: already in the region\n",
    "                continue\n",
    "\n",
    "            # Compute the missing endpoint of an infinite ridge\n",
    "\n",
    "            t = vor.points[p2] - vor.points[p1] # tangent\n",
    "            t /= np.linalg.norm(t)\n",
    "            n = np.array([-t[1], t[0]])  # normal\n",
    "\n",
    "            midpoint = vor.points[[p1, p2]].mean(axis=0)\n",
    "            direction = np.sign(np.dot(midpoint - center, n)) * n\n",
    "            far_point = vor.vertices[v2] + direction * radius\n",
    "\n",
    "            new_region.append(len(new_vertices))\n",
    "            new_vertices.append(far_point.tolist())\n",
    "\n",
    "        # sort region counterclockwise\n",
    "        vs = np.asarray([new_vertices[v] for v in new_region])\n",
    "        c = vs.mean(axis=0)\n",
    "        angles = np.arctan2(vs[:,1] - c[1], vs[:,0] - c[0])\n",
    "        new_region = np.array(new_region)[np.argsort(angles)]\n",
    "\n",
    "        # finish\n",
    "        new_regions.append(new_region.tolist())\n",
    "\n",
    "    return new_regions, np.asarray(new_vertices)"
   ]
  },
  {
   "cell_type": "code",
   "execution_count": 239,
   "metadata": {},
   "outputs": [
    {
     "data": {
      "image/png": "[encoded data removed]",
      "text/plain": [
       "<matplotlib.figure.Figure at 0x7f090070f5f8>"
      ]
     },
     "metadata": {
      "needs_background": "light"
     },
     "output_type": "display_data"
    }
   ],
   "source": [
    "import matplotlib.cm as cm\n",
    "cmap = cm.get_cmap(name='Blues', lut=None)\n",
    "# compute Voronoi tesselation\n",
    "vor = Voronoi(points_superchris_hflip)\n",
    "\n",
    "# plot\n",
    "regions, vertices = voronoi_finite_polygons_2d(vor)\n",
    "# print regions\n",
    "# print vertices\n",
    "\n",
    "# colorize\n",
    "# fig, axe = plt.subplots(1,1,figsize=(18,10))\n",
    "\n",
    "for i, region in enumerate(regions):\n",
    "    polygon = vertices[region]\n",
    "#     print(polygon)\n",
    "#     print(cmap(select_prob[i]))\n",
    "    plt.fill(*zip(*polygon), color=cmap(select_prob[i]), alpha=0.6)\n",
    "# plt.colorbar()\n",
    "# cb = mpl.colorbar.ColorbarBase(cmap=cmap, norm=normalize, orientation='vertical')\n",
    "\n",
    "plt.plot(points_superchris_hflip[:,0], points_superchris_hflip[:,1], 'ko')\n",
    "plt.xlim(vor.min_bound[0] - 0.1, vor.max_bound[0] + 0.1)\n",
    "plt.ylim(vor.min_bound[1] - 0.1, vor.max_bound[1] + 0.1)\n",
    "plt.savefig('voroni_superchris.png',dpi=200)\n",
    "plt.show()\n"
   ]
  },
  {
   "cell_type": "code",
   "execution_count": 236,
   "metadata": {},
   "outputs": [
    {
     "data": {
      "image/png": "[encoded data removed]",
      "text/plain": [
       "<matplotlib.figure.Figure at 0x7f090070f438>"
      ]
     },
     "metadata": {
      "needs_background": "light"
     },
     "output_type": "display_data"
    }
   ],
   "source": [
    "points_superchris = np.asarray([[540, 550], [730, 580], [766,630], [793, 600], [771, 555],[820, 560], [870, 632],\n",
    "                                [585, 545], [774, 693], [801, 652], [733, 663], [657, 665], [620, 700], [586, 658]])\n",
    "select_prob = np.array([0.40029454, 0.06949732, 0.79550099, 0.59315234, 0.00806741,\n",
    "                        0., 0.71970403,0.50471908, 0.03075302,0.46222955, 0.65811151, 0, 0, 0])\n",
    "np.array([ 0.3252    ,  0.0598    ,  0.49720001,  0.6218    ,  0.0054    ,\n",
    "        0.0476    ,  0.5922    ,  0.0066    ,  0.05      ,  0.0672    ,\n",
    "        0.0178    ,  0.0274    ,  0.0122    ,  0.031     ])\n",
    "# 1, 12 13 14  15, 16, 19, 2, 21,  22, 23, 7,  8, 9\n",
    "vor = Voronoi(points_superchris)\n",
    "voronoi_plot_2d(vor)\n",
    "plt.show()"
   ]
  },
  {
   "cell_type": "code",
   "execution_count": 198,
   "metadata": {},
   "outputs": [],
   "source": [
    "\n",
    "\n",
    "\n",
    "# tetrode 1, prob [ 0.40029454]\n",
    "# tetrode 12, prob [ 0.06949732]\n",
    "# tetrode 13, prob [ 0.79550099]\n",
    "# tetrode 14, prob [ 0.59315234]\n",
    "# tetrode 15, prob [ 0.00806741]\n",
    "# tetrode 16, prob [ 0.]\n",
    "# tetrode 19, prob [ 0.71970403]\n",
    "# tetrode 2, prob [ 0.50471908]\n",
    "# tetrode 21, prob [ 0.03075302]\n",
    "# tetrode 22, prob [ 0.46222955]\n",
    "# tetrode 23, prob [ 0.65811151]\n",
    "# tetrode 7, prob [ 0.]\n",
    "# tetrode 8, prob [ 0.]\n",
    "# tetrode 9, prob [ 0.]\n",
    "\n"
   ]
  },
  {
   "cell_type": "code",
   "execution_count": 237,
   "metadata": {},
   "outputs": [],
   "source": [
    "def horizon_flip(points):\n",
    "    result = points\n",
    "    result[:, 0] = points[:,0] - np.min(points[:,0]) \n",
    "    result[:, 1] = np.max(points[:,1]) - points[:,1]\n",
    "    return result\n",
    "\n",
    "points_superchris_hflip = horizon_flip(points_superchris) "
   ]
  },
  {
   "cell_type": "code",
   "execution_count": 238,
   "metadata": {},
   "outputs": [
    {
     "data": {
      "text/plain": [
       "array([[  0, 150],\n",
       "       [190, 120],\n",
       "       [226,  70],\n",
       "       [253, 100],\n",
       "       [231, 145],\n",
       "       [280, 140],\n",
       "       [330,  68],\n",
       "       [ 45, 155],\n",
       "       [234,   7],\n",
       "       [261,  48],\n",
       "       [193,  37],\n",
       "       [117,  35],\n",
       "       [ 80,   0],\n",
       "       [ 46,  42]])"
      ]
     },
     "execution_count": 238,
     "metadata": {},
     "output_type": "execute_result"
    }
   ],
   "source": [
    "points_superchris_hflip"
   ]
  },
  {
   "cell_type": "code",
   "execution_count": null,
   "metadata": {},
   "outputs": [],
   "source": []
  }
 ],
 "metadata": {
  "kernelspec": {
   "display_name": "Python [conda env:pytorch] *",
   "language": "python",
   "name": "conda-env-pytorch-py"
  },
  "language_info": {
   "codemirror_mode": {
    "name": "ipython",
    "version": 3
   },
   "file_extension": ".py",
   "mimetype": "text/x-python",
   "name": "python",
   "nbconvert_exporter": "python",
   "pygments_lexer": "ipython3",
   "version": "3.6.3"
  }
 },
 "nbformat": 4,
 "nbformat_minor": 2
}
