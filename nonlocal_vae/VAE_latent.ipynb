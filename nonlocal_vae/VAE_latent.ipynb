{
 "cells": [
  {
   "cell_type": "code",
   "execution_count": 466,
   "metadata": {},
   "outputs": [],
   "source": [
    "import matplotlib.pyplot as plt\n",
    "%matplotlib inline\n",
    "import torch\n",
    "import torch.utils.data\n",
    "from torch import nn, optim\n",
    "from torch.nn import functional as F\n",
    "from torchvision import datasets, transforms\n",
    "from torchvision.utils import save_image\n",
    "import numpy as np\n",
    "from scipy.misc import logsumexp\n",
    "import imp\n",
    "imp.reload(simple_vae)\n",
    "from simple_vae import NonLocalVAE, VAE\n",
    "\n",
    "from scipy import spatial\n"
   ]
  },
  {
   "cell_type": "markdown",
   "metadata": {},
   "source": [
    "# TSNE"
   ]
  },
  {
   "cell_type": "code",
   "execution_count": 383,
   "metadata": {},
   "outputs": [],
   "source": [
    "from sklearn.manifold import TSNE\n",
    "qz_reduced = TSNE(n_components=2, random_state=0).fit_transform(latent[:1000])"
   ]
  },
  {
   "cell_type": "code",
   "execution_count": 384,
   "metadata": {},
   "outputs": [
    {
     "name": "stdout",
     "output_type": "stream",
     "text": [
      "0\n",
      "1\n",
      "2\n",
      "3\n",
      "4\n"
     ]
    },
    {
     "data": {
      "text/plain": [
       "<matplotlib.text.Text at 0x7fe42b9089e8>"
      ]
     },
     "execution_count": 384,
     "metadata": {},
     "output_type": "execute_result"
    },
    {
     "data": {
      "image/png": "[encoded data removed]",
      "text/plain": [
       "<matplotlib.figure.Figure at 0x7fe42bbb2be0>"
      ]
     },
     "metadata": {
      "needs_background": "light"
     },
     "output_type": "display_data"
    }
   ],
   "source": [
    "c = ['r', 'blue', 'g', 'y', 'black']\n",
    "label = list(np.arange(10))\n",
    "for i in range(5):\n",
    "    print(i)\n",
    "    \n",
    "    plt.scatter(qz_reduced[np.where(test_target[:1000]==i),0], qz_reduced[np.where(test_target[:1000]==i), 1], c=c[i], label=label[i])\n",
    "plt.title('Clustering of activity in the latent space by TSNE plot')\n",
    "plt.xlabel('dimension 1')\n",
    "plt.ylabel('dimension 2')    "
   ]
  },
  {
   "cell_type": "code",
   "execution_count": null,
   "metadata": {},
   "outputs": [],
   "source": []
  },
  {
   "cell_type": "code",
   "execution_count": 290,
   "metadata": {},
   "outputs": [],
   "source": [
    "# np.asarray([0.7272727489471436,\n",
    "# 0.575757622718811,\n",
    "# 0.7878788113594055,\n",
    "# 0.605757622718811,\n",
    "# 0.7575757503509521]).mean()"
   ]
  },
  {
   "cell_type": "code",
   "execution_count": 432,
   "metadata": {},
   "outputs": [],
   "source": [
    "def get_latent(model, data, latent_dim=50):\n",
    "    model.eval()\n",
    "    for i, (data, label) in enumerate(test_loader):\n",
    "        recon_batch, mu, logvar = model(data.cuda())\n",
    "    \n",
    "    latent = model.z * model.theta\n",
    "    latent = latent.view(-1, latent_dim).cpu().detach().numpy()\n",
    "    return latent, label\n",
    "\n",
    "\n",
    "def get_pairwise_cosine(latent, label):\n",
    "    mean_vec = np.zeros([10, latent.shape[1]])\n",
    "    for i in range(10):\n",
    "        mean_vec[i, :] = latent[np.where(label == i)].mean(axis=0)\n",
    "    \n",
    "    cosine_matrix = np.zeros([10, 10])\n",
    "    for i in range(10):\n",
    "        for j in range(i, 10):\n",
    "            cosine_matrix[i, j] = spatial.distance.cosine(mean_vec[i], mean_vec[j]) \n",
    "            cosine_matrix[j, i] = cosine_matrix[i, j]\n",
    "    return 1 - cosine_matrix, mean_vec"
   ]
  },
  {
   "cell_type": "code",
   "execution_count": 464,
   "metadata": {},
   "outputs": [],
   "source": [
    "def get_cosine(prior, tau, p, latent_dim):# 'imom' 'Gaussian'\n",
    "    epochs = 20\n",
    "    result_dir = '/extra/yadongl10/git_project/nlpresult/vae_exp/0217'\n",
    "    model_dir = result_dir + '/nlpvae_{}_latent{}_epoch{}_tau{}_p{}.pt'.format(prior, latent_dim, epochs, tau, p)\n",
    "    print(model_dir)\n",
    "    checkpoint = torch.load(model_dir)\n",
    "    if prior == 'vanilla':\n",
    "        model = VAE(latent_dim=latent_dim).cuda()\n",
    "    else:\n",
    "        model = NonLocalVAE(latent_dim=latent_dim, prior=prior, tau=tau, p=p).cuda()\n",
    "    model.load_state_dict(checkpoint)\n",
    "\n",
    "    # load data\n",
    "    test_loader = torch.utils.data.DataLoader(\n",
    "            datasets.MNIST('/extra/yadongl10/data', train=False, transform=transforms.ToTensor()),\n",
    "            batch_size=100, shuffle=True)\n",
    "    test_data, test_target = test_loader.dataset.data.float().cuda(), test_loader.dataset.targets.numpy()\n",
    "    print(test_data.shape)\n",
    "    \n",
    "    # get latent\n",
    "    if prior == 'vanilla':\n",
    "        model = VAE(latent_dim=latent_dim).cuda()\n",
    "        recon_batch, mu, logvar = model(test_data)\n",
    "        latent = mu + 0.5 * torch.exp(logvar) * torch.rand(test_data.shape[0], logvar.shape[1]).cuda()\n",
    "        latent = latent.view(-1, latent_dim).cpu().detach().numpy()\n",
    "    else:\n",
    "        latent, test_target = get_latent(model, test_data, latent_dim=latent_dim)\n",
    "\n",
    "    # get similarity\n",
    "    cosine_matrix, mean_vec = get_pairwise_cosine(latent, test_target)\n",
    "    return cosine_matrix, mean_vec"
   ]
  },
  {
   "cell_type": "code",
   "execution_count": 436,
   "metadata": {},
   "outputs": [
    {
     "name": "stdout",
     "output_type": "stream",
     "text": [
      "/extra/yadongl10/git_project/nlpresult/vae_exp/0217/nlpvae_Gaussian_latent50_epoch20_tau1_p0.5.pt\n",
      "torch.Size([10000, 28, 28])\n",
      "/extra/yadongl10/git_project/nlpresult/vae_exp/0217/nlpvae_vanilla_latent50_epoch20_tau1_p1.pt\n",
      "torch.Size([10000, 28, 28])\n",
      "/extra/yadongl10/git_project/nlpresult/vae_exp/0217/nlpvae_imom_latent50_epoch20_tau5_p0.2.pt\n",
      "torch.Size([10000, 28, 28])\n"
     ]
    }
   ],
   "source": [
    "cosine_gaussian, mean_vec_g = get_cosine(prior='Gaussian', tau=1, p=0.5, latent_dim=50)\n",
    "cosine_vanilla, mean_vec_v = get_cosine(prior='vanilla', tau=1, p=1, latent_dim=50)\n",
    "cosine_imom, mean_vec_i = get_cosine(prior='imom', tau=5, p=0.2, latent_dim=50)"
   ]
  },
  {
   "cell_type": "code",
   "execution_count": null,
   "metadata": {},
   "outputs": [],
   "source": []
  },
  {
   "cell_type": "code",
   "execution_count": 423,
   "metadata": {},
   "outputs": [
    {
     "data": {
      "image/png": "[encoded data removed]",
      "text/plain": [
       "<matplotlib.figure.Figure at 0x7fe42b34b128>"
      ]
     },
     "metadata": {
      "needs_background": "light"
     },
     "output_type": "display_data"
    }
   ],
   "source": [
    "fig, axe = plt.subplots(2,1,figsize=(18,10))\n",
    "for i, m in enumerate([mean_vec_i, mean_vec_g]):\n",
    "    im1 = axe[i].imshow(m, vmin=0., vmax=1)\n",
    "    cbar = fig.colorbar(im1, ax=axe[i],orientation='vertical')\n"
   ]
  },
  {
   "cell_type": "code",
   "execution_count": 469,
   "metadata": {},
   "outputs": [
    {
     "data": {
      "image/png": "[encoded data removed]",
      "text/plain": [
       "<matplotlib.figure.Figure at 0x7fe427e3b630>"
      ]
     },
     "metadata": {
      "needs_background": "light"
     },
     "output_type": "display_data"
    }
   ],
   "source": [
    "fig, axe = plt.subplots(1,3,figsize=(18,10))\n",
    "for i, m in enumerate([cosine_mom, cosine_gaussian, cosine_vanilla]):\n",
    "    im1 = axe[i].imshow(m, vmin=0., vmax=1)\n",
    "    cbar = fig.colorbar(im1, ax=axe[i],orientation='vertical')\n"
   ]
  },
  {
   "cell_type": "code",
   "execution_count": 397,
   "metadata": {},
   "outputs": [
    {
     "name": "stdout",
     "output_type": "stream",
     "text": [
      "/extra/yadongl10/git_project/nlpresult/vae_exp/0217/nlpvae_vanilla_latent50_epoch20_tau1_p1.pt\n"
     ]
    }
   ],
   "source": [
    "# result_dir = '/extra/yadongl10/git_project/nlpresult/vae_exp/0217'\n",
    "\n",
    "# # load model \n",
    "# p = 0.2\n",
    "# prior = 'imom'  # 'imom' 'Gaussian'\n",
    "# tau = 5\n",
    "# latent_dim = 100\n",
    "# epochs = 20\n",
    "# model_dir = result_dir + '/nlpvae_{}_latent{}_epoch{}_tau{}_p{}.pt'.format(prior, latent_dim, epochs, tau, p)\n",
    "# print(model_dir)\n",
    "# checkpoint = torch.load(model_dir)\n",
    "\n",
    "# model = NonLocalVAE(latent_dim=latent_dim, prior=prior, tau=tau, p=p).cuda()\n",
    "# model.load_state_dict(checkpoint)\n",
    "\n",
    "# # load data\n",
    "# test_loader = torch.utils.data.DataLoader(\n",
    "#         datasets.MNIST('/extra/yadongl10/data', train=False, transform=transforms.ToTensor()),\n",
    "#         batch_size=10000, shuffle=True)\n",
    "# test_data, test_target = test_loader.dataset.data.float().cuda(), test_loader.dataset.targets.numpy()\n",
    "# print(test_data.shape)\n",
    "\n",
    "# # p = 1\n",
    "# # prior = 'vanilla'  # 'imom' 'Gaussian'\n",
    "# # tau = 1\n",
    "# # latent_dim = 50 \n",
    "# # epochs = 20\n",
    "\n",
    "# # result_dir = '/extra/yadongl10/git_project/nlpresult/vae_exp/0217'\n",
    "# # model_dir = result_dir + '/nlpvae_{}_latent{}_epoch{}_tau{}_p{}.pt'.format(prior, latent_dim, epochs, tau, p)\n",
    "# # print(model_dir)\n",
    "# # checkpoint = torch.load(model_dir)\n",
    "# # if prior == 'vanilla':\n",
    "# #     model = VAE(latent_dim=latent_dim).cuda()"
   ]
  },
  {
   "cell_type": "code",
   "execution_count": 398,
   "metadata": {},
   "outputs": [
    {
     "data": {
      "text/plain": [
       "tensor(-0.4324, device='cuda:0', grad_fn=<MeanBackward1>)"
      ]
     },
     "execution_count": 398,
     "metadata": {},
     "output_type": "execute_result"
    }
   ],
   "source": [
    "# model.eval()\n",
    "# recon_batch, mu, logvar = model(test_data)\n",
    "# logvar.mean()"
   ]
  },
  {
   "cell_type": "code",
   "execution_count": 399,
   "metadata": {},
   "outputs": [],
   "source": [
    "# recon_batch, mu, logvar = model(test_data)\n",
    "# latent = mu + 0.5 * torch.exp(logvar) * torch.rand(test_data.shape[0], logvar.shape[1]).cuda()\n",
    "# latent = latent.view(-1, latent_dim).cpu().detach().numpy()"
   ]
  },
  {
   "cell_type": "code",
   "execution_count": 426,
   "metadata": {},
   "outputs": [],
   "source": [
    "# plt.imshow(get_pairwise_cosine(latent, test_target))\n",
    "# plt.colorbar()"
   ]
  },
  {
   "cell_type": "code",
   "execution_count": 467,
   "metadata": {},
   "outputs": [
    {
     "name": "stdout",
     "output_type": "stream",
     "text": [
      "/extra/yadongl10/git_project/nlpresult/vae_exp/0217/nlpvae_mom_latent100_epoch20_tau1_p0.5.pt\n",
      "torch.Size([10000, 28, 28])\n"
     ]
    }
   ],
   "source": [
    "cosine_mom, mean_vec_m = get_cosine(prior='mom', tau=1, p=0.5, latent_dim=100)"
   ]
  },
  {
   "cell_type": "code",
   "execution_count": 468,
   "metadata": {},
   "outputs": [
    {
     "data": {
      "text/plain": [
       "<matplotlib.colorbar.Colorbar at 0x7fe427e2c4e0>"
      ]
     },
     "execution_count": 468,
     "metadata": {},
     "output_type": "execute_result"
    },
    {
     "data": {
      "image/png": "[encoded data removed]",
      "text/plain": [
       "<matplotlib.figure.Figure at 0x7fe427f4a320>"
      ]
     },
     "metadata": {
      "needs_background": "light"
     },
     "output_type": "display_data"
    }
   ],
   "source": [
    "plt.imshow(cosine_mom)\n",
    "plt.colorbar()"
   ]
  },
  {
   "cell_type": "code",
   "execution_count": 450,
   "metadata": {},
   "outputs": [
    {
     "data": {
      "text/plain": [
       "array([[ 1.        , -0.00968559,  0.46528384,  0.45592358,  0.4234577 ,\n",
       "         0.62667832,  0.55424486,  0.35390172,  0.35636533,  0.38703308],\n",
       "       [-0.00968559,  1.        ,  0.37715995,  0.3792277 ,  0.37289509,\n",
       "         0.42364298,  0.31306009,  0.38536492,  0.37876077,  0.36731586],\n",
       "       [ 0.46528384,  0.37715995,  1.        ,  0.46723538,  0.38613962,\n",
       "         0.42981587,  0.48337913,  0.3151572 ,  0.36508843,  0.18584459],\n",
       "       [ 0.45592358,  0.3792277 ,  0.46723538,  1.        ,  0.31609916,\n",
       "         0.73954521,  0.26888311,  0.39550125,  0.49864264,  0.34066116],\n",
       "       [ 0.4234577 ,  0.37289509,  0.38613962,  0.31609916,  1.        ,\n",
       "         0.49653489,  0.50809957,  0.54047857,  0.37807233,  0.77945934],\n",
       "       [ 0.62667832,  0.42364298,  0.42981587,  0.73954521,  0.49653489,\n",
       "         1.        ,  0.47322587,  0.49482216,  0.7106893 ,  0.54150257],\n",
       "       [ 0.55424486,  0.31306009,  0.48337913,  0.26888311,  0.50809957,\n",
       "         0.47322587,  1.        ,  0.26385985,  0.33159854,  0.37586885],\n",
       "       [ 0.35390172,  0.38536492,  0.3151572 ,  0.39550125,  0.54047857,\n",
       "         0.49482216,  0.26385985,  1.        ,  0.33679721,  0.72330681],\n",
       "       [ 0.35636533,  0.37876077,  0.36508843,  0.49864264,  0.37807233,\n",
       "         0.7106893 ,  0.33159854,  0.33679721,  1.        ,  0.48330267],\n",
       "       [ 0.38703308,  0.36731586,  0.18584459,  0.34066116,  0.77945934,\n",
       "         0.54150257,  0.37586885,  0.72330681,  0.48330267,  1.        ]])"
      ]
     },
     "execution_count": 450,
     "metadata": {},
     "output_type": "execute_result"
    }
   ],
   "source": [
    "cosine_gaussian"
   ]
  },
  {
   "cell_type": "code",
   "execution_count": 477,
   "metadata": {},
   "outputs": [
    {
     "data": {
      "text/plain": [
       "(array([  1.,   0.,  91.,   2.,   1.,   1.,   1.,   0.,   1.,   2.]),\n",
       " array([-0.7580412 , -0.48882768, -0.21961415,  0.04959938,  0.31881291,\n",
       "         0.58802643,  0.85723996,  1.12645349,  1.39566702,  1.66488054,\n",
       "         1.93409407]),\n",
       " <a list of 10 Patch objects>)"
      ]
     },
     "execution_count": 477,
     "metadata": {},
     "output_type": "execute_result"
    },
    {
     "data": {
      "image/png": "[encoded data removed]",
      "text/plain": [
       "<matplotlib.figure.Figure at 0x7fe4217efd30>"
      ]
     },
     "metadata": {
      "needs_background": "light"
     },
     "output_type": "display_data"
    }
   ],
   "source": [
    "plt.hist(mean_vec_m[9])"
   ]
  },
  {
   "cell_type": "code",
   "execution_count": 480,
   "metadata": {},
   "outputs": [
    {
     "name": "stdout",
     "output_type": "stream",
     "text": [
      "/extra/yadongl10/git_project/nlpresult/vae_exp/0219/nlpvae_imom_latent50_epoch10_tau1_p0.8.pt\n",
      "torch.Size([10000, 28, 28])\n"
     ]
    }
   ],
   "source": [
    "def get_cosine(prior, tau, p, latent_dim):# 'imom' 'Gaussian'\n",
    "    epochs = 10\n",
    "    result_dir = '/extra/yadongl10/git_project/nlpresult/vae_exp/0219'\n",
    "    model_dir = result_dir + '/nlpvae_{}_latent{}_epoch{}_tau{}_p{}.pt'.format(prior, latent_dim, epochs, tau, p)\n",
    "    print(model_dir)\n",
    "    checkpoint = torch.load(model_dir)\n",
    "    if prior == 'vanilla':\n",
    "        model = VAE(latent_dim=latent_dim).cuda()\n",
    "    else:\n",
    "        model = NonLocalVAE(latent_dim=latent_dim, prior=prior, tau=tau, p=p).cuda()\n",
    "    model.load_state_dict(checkpoint)\n",
    "\n",
    "    # load data\n",
    "    test_loader = torch.utils.data.DataLoader(\n",
    "            datasets.MNIST('/extra/yadongl10/data', train=False, transform=transforms.ToTensor()),\n",
    "            batch_size=100, shuffle=True)\n",
    "    test_data, test_target = test_loader.dataset.data.float().cuda(), test_loader.dataset.targets.numpy()\n",
    "    print(test_data.shape)\n",
    "    \n",
    "    # get latent\n",
    "    if prior == 'vanilla':\n",
    "        model = VAE(latent_dim=latent_dim).cuda()\n",
    "        recon_batch, mu, logvar = model(test_data)\n",
    "        latent = mu + 0.5 * torch.exp(logvar) * torch.rand(test_data.shape[0], logvar.shape[1]).cuda()\n",
    "        latent = latent.view(-1, latent_dim).cpu().detach().numpy()\n",
    "    else:\n",
    "        latent, test_target = get_latent(model, test_data, latent_dim=latent_dim)\n",
    "\n",
    "    # get similarity\n",
    "    cosine_matrix, mean_vec = get_pairwise_cosine(latent, test_target)\n",
    "    return cosine_matrix, mean_vec\n",
    "cosine_matrix, mean_vec = get_cosine('imom', tau=1, p=0.8, latent_dim=50)"
   ]
  },
  {
   "cell_type": "code",
   "execution_count": 482,
   "metadata": {},
   "outputs": [
    {
     "data": {
      "text/plain": [
       "<matplotlib.colorbar.Colorbar at 0x7fe42abe9898>"
      ]
     },
     "execution_count": 482,
     "metadata": {},
     "output_type": "execute_result"
    },
    {
     "data": {
      "image/png": "[encoded data removed]",
      "text/plain": [
       "<matplotlib.figure.Figure at 0x7fe42aab9e80>"
      ]
     },
     "metadata": {
      "needs_background": "light"
     },
     "output_type": "display_data"
    }
   ],
   "source": [
    "plt.imshow(cosine_matrix)\n",
    "plt.colorbar()"
   ]
  },
  {
   "cell_type": "code",
   "execution_count": null,
   "metadata": {},
   "outputs": [],
   "source": []
  }
 ],
 "metadata": {
  "kernelspec": {
   "display_name": "Python [conda env:pytorch] *",
   "language": "python",
   "name": "conda-env-pytorch-py"
  },
  "language_info": {
   "codemirror_mode": {
    "name": "ipython",
    "version": 3
   },
   "file_extension": ".py",
   "mimetype": "text/x-python",
   "name": "python",
   "nbconvert_exporter": "python",
   "pygments_lexer": "ipython3",
   "version": "3.6.3"
  }
 },
 "nbformat": 4,
 "nbformat_minor": 2
}
