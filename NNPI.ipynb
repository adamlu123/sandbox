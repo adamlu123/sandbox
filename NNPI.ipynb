{
 "cells": [
  {
   "cell_type": "markdown",
   "metadata": {},
   "source": [
    "# Learning a map from random noise to target distribution (posterior known up to a constant)"
   ]
  },
  {
   "cell_type": "markdown",
   "metadata": {},
   "source": [
    "Yadong Lu Dec 13th"
   ]
  },
  {
   "cell_type": "markdown",
   "metadata": {},
   "source": [
    "We explore the idea of using neural network to wrap a source of random noise into a flexible ditribution which is then used to approximate a target distribution. From now on, we explore a simple discrepency measure, i.e. KL divergence between an implicit distribution q(x) and a target distribution p(x) which is known up to a constant. \n",
    "\n",
    "As a starting point, we set p(x) to be a mixture of normal without knowing the normalizing constant. x ~ 0.5*N(-3,1) + 0.5*N(3,1)\n",
    "\n",
    "We use an auxillary distribution $p^{*}(x)$ to minimize the KL divergence:\n",
    "\n",
    "$E_{q}log \\frac{q(x)}{p(x)} = E_{q}log \\frac{q(x)}{p^{*}(x)} + E_{q}log \\frac{p^{*}(x)}{p(x)}$\n",
    "\n",
    "We let $p^{*}(x) = N(0,5)$. $E_{q}log \\frac{p^{*}(x)}{p(x)}$ is easy to estimate through sampling from q and use monte carlo estimation, after taking the gradient is constance in p(x) goes away. The problem becomes to estimate $E_{q}log \\frac{q(x)}{p^{*}(x)}$. We use the proposition 1. from https://arxiv.org/abs/1406.2661. When the discriminator D(x) is trained to convergence, then $-log\\frac{D(G(z))}{1-D(G(z))} = E_{q}log \\frac{q(x)}{p^{*}(x)}$  "
   ]
  },
  {
   "cell_type": "code",
   "execution_count": 171,
   "metadata": {
    "collapsed": false
   },
   "outputs": [],
   "source": [
    "import tensorflow as tf\n",
    "import numpy as np\n",
    "import matplotlib.pyplot as plt\n",
    "%matplotlib inline\n",
    "import os\n",
    "os.environ[\"CUDA_DEVICE_ORDER\"]=\"PCI_BUS_ID\"   # see issue #152\n",
    "os.environ[\"CUDA_VISIBLE_DEVICES\"]=\"3\"\n",
    "from IPython import display\n",
    "import time\n",
    "from scipy.stats import norm\n",
    "# from tensorflow.examples.tutorials.mnist import input_data\n",
    "# mnist = input_data.read_data_sets('MNIST_data')"
   ]
  },
  {
   "cell_type": "markdown",
   "metadata": {},
   "source": [
    "We make functions to sample from the target distribution. 'sample_z' is for sampling the uniform noise that is injected to a generator neural network. The input of the generator is a n dimensional vector where each dimension is an independent uniform noise between -20 to 20. We input 'batch_size' number of n-dim vectors so that the output of the generator is 'batch_size' number of scalars. "
   ]
  },
  {
   "cell_type": "code",
   "execution_count": 160,
   "metadata": {
    "collapsed": false
   },
   "outputs": [
    {
     "data": {
      "image/png": "[encoded data removed]",
      "text/plain": [
       "<matplotlib.figure.Figure at 0x7f1aee55c2b0>"
      ]
     },
     "metadata": {},
     "output_type": "display_data"
    }
   ],
   "source": [
    "def mix_norm(x):\n",
    "    return 0.5*np.exp(-(x-1)**2/2) + 0.5*np.exp(-(x+1)**2/2)\n",
    "# plt.plot(np.linspace(-5,5,1000),[mix_norm(x) for x in np.linspace(-5,5,1000)],linestyle=linestyles[0], label='Mix normal uptoconstant')\n",
    "\n",
    "def sample_data(n=10000, mn=[1,-1], sd=[1,1]):\n",
    "    data = np.zeros(n)\n",
    "    z = np.random.binomial(1, 0.5, size=n)#.astype('float')\n",
    "    component0 =  np.random.normal(loc=mn[0], scale=sd[0], size=n)\n",
    "    component1 =  np.random.normal(loc=mn[1], scale=sd[1], size=n)\n",
    "#     component2 =  np.random.normal(loc=mn[], scale=sd[1], size=n)\n",
    "    for i in range(n):\n",
    "        if z[i] ==0:\n",
    "            data[i] = component0[i]\n",
    "        else:\n",
    "            data[i] = component1[i]\n",
    "    return data\n",
    "data = sample_data(10000, [5,-5], [1,1])\n",
    "plt.hist(data)\n",
    "\n",
    "def sample_Z(batch_size, n):\n",
    "    '''Uniform prior for G(Z)'''\n",
    "#     return np.random.normal(loc=0, scale=1, size=[batch_size, n])\n",
    "    return np.random.uniform(-20., 20., size=[batch_size, n])"
   ]
  },
  {
   "cell_type": "markdown",
   "metadata": {},
   "source": [
    "Below we build the tensorflow graph. The auxillary distibution we use is a flat normal distribution N(0,10)."
   ]
  },
  {
   "cell_type": "code",
   "execution_count": 215,
   "metadata": {
    "collapsed": false
   },
   "outputs": [
    {
     "name": "stdout",
     "output_type": "stream",
     "text": [
      "(?, 1) (?, 1)\n"
     ]
    }
   ],
   "source": [
    "tf.reset_default_graph()\n",
    "\n",
    "def generator(Z, hsize=[64, 64], reuse=False):\n",
    "    with tf.variable_scope(\"GAN/Generator\",reuse=reuse):\n",
    "        h1 = tf.layers.dense(Z,hsize[0],activation=tf.nn.relu)\n",
    "        h2 = tf.layers.dense(h1,hsize[1],activation=tf.nn.relu) \n",
    "        h2_drop = tf.nn.dropout(h2,keep_prob=0.7)\n",
    "        h3 = tf.layers.dense(h2_drop, hsize[1],activation=tf.nn.relu) \n",
    "        h4 = tf.layers.dense(h3,hsize[1],activation=tf.nn.relu) \n",
    "        h4_drop = tf.nn.dropout(h4,keep_prob=0.7)\n",
    "        out = tf.layers.dense(h4_drop,1)\n",
    "\n",
    "    return out\n",
    "\n",
    "\n",
    "def discriminator(X ,hsize=[64, 64] ,reuse=False):\n",
    "    with tf.variable_scope(\"GAN/Discriminator\",reuse=reuse):\n",
    "        h1 = tf.layers.dense(X,hsize[0],activation=tf.nn.relu)\n",
    "        h2 = tf.layers.dense(h1,hsize[1],activation=tf.nn.relu)\n",
    "        h3 = tf.layers.dense(h2,1)\n",
    "        out = tf.nn.sigmoid( h3 ) # transform to probability\n",
    "\n",
    "    return out, h3\n",
    "\n",
    "X = tf.placeholder(tf.float32,[None,1])\n",
    "Z = tf.placeholder(tf.float32,[None,10])\n",
    "\n",
    "G_sample = generator(Z)\n",
    "D_real, D_logit_real = discriminator(X)\n",
    "D_fake, D_logit_fake = discriminator(G_sample,reuse=True)\n",
    "\n",
    "disc_loss = -tf.reduce_mean(tf.log(D_real) + tf.log(1-D_fake))\n",
    "gen_loss = tf.reduce_mean(-D_logit_fake + (-tf.square(G_sample)/(2*25)) -\n",
    "                          tf.log( 0.5*tf.exp(-tf.square(G_sample-3)/2) + 0.5*tf.exp(-tf.square(G_sample+3)/2)+1e-10)) ##tf.log(1/np.sqrt(2*np.pi)) +\n",
    "\n",
    "# gen_loss = tf.reduce_mean(-D_logit_fake  -\n",
    "#                           tf.log( 0.5*tf.exp(-tf.square(G_sample-3)/2) + 0.5*tf.exp(-tf.square(G_sample+3)/2)) ) ##tf.log(1/np.sqrt(2*np.pi)) +\n",
    "\n",
    "print(D_real.shape, G_sample.shape)\n",
    "\n",
    "gen_vars = tf.get_collection(tf.GraphKeys.GLOBAL_VARIABLES,scope=\"GAN/Generator\")\n",
    "disc_vars = tf.get_collection(tf.GraphKeys.GLOBAL_VARIABLES,scope=\"GAN/Discriminator\")\n",
    "\n",
    "gen_step = tf.train.AdamOptimizer(learning_rate=0.0005).minimize(gen_loss,var_list = gen_vars) # G Train step\n",
    "disc_step = tf.train.AdamOptimizer(learning_rate=0.001).minimize(disc_loss,var_list = disc_vars) # D Train step\n"
   ]
  },
  {
   "cell_type": "markdown",
   "metadata": {},
   "source": [
    "Note here we do stochastic gradient descent (sgd) for the disciminator 30 times so that it is close to convergence and then we keep the discriminator the same and do sgd 2 times for the generator. "
   ]
  },
  {
   "cell_type": "code",
   "execution_count": 216,
   "metadata": {
    "collapsed": false
   },
   "outputs": [
    {
     "data": {
      "image/png": "[encoded data removed]",
      "text/plain": [
       "<matplotlib.figure.Figure at 0x7f1ad4306278>"
      ]
     },
     "metadata": {},
     "output_type": "display_data"
    }
   ],
   "source": [
    "batch_size = 1024\n",
    "sess = tf.Session()\n",
    "sess.run(tf.global_variables_initializer())\n",
    "fix_data = np.random.normal(loc=0, scale=5, size=batch_size).reshape(batch_size,1)\n",
    "# fix_data = np.random.uniform(-50., 50., size=[batch_size, 1])\n",
    "for i in range(4001):\n",
    "    for j in range(30):\n",
    "        X_batch = fix_data # sample_data(batch_size, [5,-5], [1,1]).reshape(batch_size,1)\n",
    "        Z_batch = sample_Z(batch_size, 10)\n",
    "        _, dloss = sess.run([disc_step, disc_loss], feed_dict={X: X_batch, Z: Z_batch})\n",
    "    for k in range(2):\n",
    "#         Z_batch = sample_Z(batch_size, 5)\n",
    "        _, gloss = sess.run([gen_step, gen_loss], feed_dict={Z: Z_batch})\n",
    "    if i % 100 == 0:\n",
    "        print(\"Iterations: %d\\t Discriminator loss: %.4f\\t Generator loss: %.4f\"%(i,dloss,gloss) )\n",
    "        G_sample_val = sess.run(G_sample, feed_dict={Z: sample_Z(10000, 10)} )\n",
    "        print(np.mean(G_sample_val))\n",
    "        plt.hist(G_sample_val, normed=True)\n",
    "#         plt.plot(np.linspace(-5,5,2000),[0.5*(norm.pdf(x,-3,1) + norm.pdf(x,3,1)) for x in np.linspace(-5,5,1000)],\\\n",
    "#                  linestyle='-',  )\n",
    "\n",
    "        display.display(plt.gcf())\n",
    "        display.clear_output(wait=True)\n"
   ]
  },
  {
   "cell_type": "code",
   "execution_count": 236,
   "metadata": {
    "collapsed": false
   },
   "outputs": [],
   "source": [
    "# batch_size = 1024\n",
    "# sess = tf.Session()\n",
    "# sess.run(tf.global_variables_initializer())\n",
    "# for i in range(10001):\n",
    "#     X_batch = np.random.normal(loc=0, scale=1, size=batch_size).reshape(batch_size,1) #sample_data(batch_size, [5,-5], [1,1]).reshape(batch_size,1)\n",
    "#     Z_batch = sample_Z(batch_size, 5)#.reashape(batch_size,5)\n",
    "#     _, dloss = sess.run([disc_step, disc_loss], feed_dict={X: X_batch, Z: Z_batch})\n",
    "#     _, gloss = sess.run([gen_step, gen_loss], feed_dict={Z: Z_batch})\n",
    "#     if i % 500 == 0:\n",
    "#         print(\"Iterations: %d\\t Discriminator loss: %.4f\\t Generator loss: %.4f\"%(i,dloss,gloss) )"
   ]
  },
  {
   "cell_type": "markdown",
   "metadata": {},
   "source": [
    "# Results"
   ]
  },
  {
   "cell_type": "markdown",
   "metadata": {},
   "source": [
    "Below we look at the samples output by the generator neural network. The sampled histogram is compared with the density function of mixture  x ~ 0.5N(-3,1) + 0.5N(3,1). As we can see, they are very close to each other. "
   ]
  },
  {
   "cell_type": "code",
   "execution_count": 234,
   "metadata": {
    "collapsed": false
   },
   "outputs": [
    {
     "name": "stdout",
     "output_type": "stream",
     "text": [
      "0.996382 0.901958\n",
      "0.349559 0.692233\n"
     ]
    }
   ],
   "source": [
    "G_sample_val, D_fake_val, D_real_val = sess.run([G_sample,D_fake,D_real], feed_dict={Z: sample_Z(10000, 10),X: X_batch} )\n",
    "# plt.hist(G_sample_val)\n",
    "X_batch = np.random.normal(loc=0, scale=1, size=batch_size).reshape(batch_size,1) #sample_data(batch_size, [5,-5], [1,1]).reshape(batch_size,1)\n",
    "Z_batch = sample_Z(batch_size, 10)\n",
    "D_fake_val, D_real_val = sess.run([D_fake,D_real], feed_dict={X: X_batch, Z: Z_batch})\n",
    "print( np.max(D_fake_val), np.max(D_real_val))\n",
    "print( np.mean(D_fake_val), np.mean(D_real_val))"
   ]
  },
  {
   "cell_type": "code",
   "execution_count": 242,
   "metadata": {
    "collapsed": false
   },
   "outputs": [
    {
     "data": {
      "text/plain": [
       "<matplotlib.legend.Legend at 0x7f19ef4fd9e8>"
      ]
     },
     "execution_count": 242,
     "metadata": {},
     "output_type": "execute_result"
    },
    {
     "data": {
      "image/png": "[encoded data removed]",
      "text/plain": [
       "<matplotlib.figure.Figure at 0x7f19ef516240>"
      ]
     },
     "metadata": {},
     "output_type": "display_data"
    }
   ],
   "source": [
    "plt.hist(G_sample_val, normed=True,bins=90, label = 'histogram of generated samples')\n",
    "plt.plot(np.linspace(-10,10,2000),[0.5*(norm.pdf(x,-3,1) + norm.pdf(x,3,1)) for x in np.linspace(-10,10,2000)],\\\n",
    "         linestyle='-'  ,label='pdf of mixture of 0.5N(-3,1) + 0.5N(3,1)')\n",
    "plt.legend()"
   ]
  },
  {
   "cell_type": "code",
   "execution_count": null,
   "metadata": {
    "collapsed": true
   },
   "outputs": [],
   "source": []
  }
 ],
 "metadata": {
  "kernelspec": {
   "display_name": "Python 3",
   "language": "python",
   "name": "python3"
  },
  "language_info": {
   "codemirror_mode": {
    "name": "ipython",
    "version": 3
   },
   "file_extension": ".py",
   "mimetype": "text/x-python",
   "name": "python",
   "nbconvert_exporter": "python",
   "pygments_lexer": "ipython3",
   "version": "3.6.0"
  }
 },
 "nbformat": 4,
 "nbformat_minor": 2
}
